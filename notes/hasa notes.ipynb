{
 "cells": [
  {
   "cell_type": "markdown",
   "metadata": {},
   "source": [
    "Has a\n",
    "Is a\n",
    "\n",
    "\n",
    "a background is a game object\n",
    "character: is a game object\n",
    "meanwhile background has a(n) image \n",
    "a character has a code\n",
    "\n",
    "gamelevel has a gameobject\n"
   ]
  }
 ],
 "metadata": {
  "language_info": {
   "name": "python"
  }
 },
 "nbformat": 4,
 "nbformat_minor": 2
}
