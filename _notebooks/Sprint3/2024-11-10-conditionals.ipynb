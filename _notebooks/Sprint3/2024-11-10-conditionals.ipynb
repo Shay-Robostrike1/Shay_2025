{
 "cells": [
  {
   "cell_type": "raw",
   "metadata": {
    "vscode": {
     "languageId": "raw"
    }
   },
   "source": [
    "---\n",
    "comments: True\n",
    "layout: post\n",
    "title: conditionals lesson\n",
    "description: An introduction to JavaScript conditionals\n",
    "permalink: /csse/javascript/fundamentals/conditionals\n",
    "type: ccc\n",
    "---"
   ]
  },
  {
   "cell_type": "markdown",
   "metadata": {},
   "source": [
    "<div style=\"display: flex; flex-wrap: wrap; gap: 10px; justify-content: center\">\n",
    "    <a href=\"{{site.baseurl}}/csse/javascript/fundamentals/conditionals/hacks\" style=\"text-decoration: none;\">\n",
    "        <div style=\"background-color: #0b73be; color: black; padding: 10px 20px; border-radius: 5px; font-weight: bold;\">\n",
    "           <center> Hacks</center>\n",
    "        </div>\n",
    "    </a>\n",
    "</div>"
   ]
  },
  {
   "cell_type": "markdown",
   "metadata": {},
   "source": [
    "# Lesson preview \n",
    "in this lesson you will learn how to use if statments and their logics on how they interpret values. "
   ]
  },
  {
   "cell_type": "markdown",
   "metadata": {},
   "source": [
    "<script src=\"https://utteranc.es/client.js\"\n",
    "        repo=\"mrboiisthebest/william_2025\"\n",
    "        issue-term=\"title\"\n",
    "        label=\"blogpost-comment\"\n",
    "        theme=\"github-dark\"\n",
    "        crossorigin=\"anonymous\"\n",
    "        async>\n",
    "</script>"
   ]
  }
 ],
 "metadata": {
  "kernelspec": {
   "display_name": "venv",
   "language": "python",
   "name": "python3"
  },
  "language_info": {
   "codemirror_mode": {
    "name": "ipython",
    "version": 3
   },
   "file_extension": ".py",
   "mimetype": "text/x-python",
   "name": "python",
   "nbconvert_exporter": "python",
   "pygments_lexer": "ipython3",
   "version": "3.10.12"
  }
 },
 "nbformat": 4,
 "nbformat_minor": 2
}
