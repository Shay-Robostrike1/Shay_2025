{
 "cells": [
  {
   "cell_type": "markdown",
   "metadata": {},
   "source": [
    "# Shay's Rock Paper Scissors game\n",
    "there might be a few things other than rock paper and scissors"
   ]
  },
  {
   "cell_type": "markdown",
   "metadata": {},
   "source": [
    "## How did I make a rock-paper-scissors game?\n",
    "It's really simple actually, first I made a user input box where you can input rock, paper, or scissors, then I have the computer pick a random number when the player presses play, 1-3 with each number being assigned to rock, paper, or scissors. then the output from the computer is taken, and that determins which message runs, for instance if the computer's random number is 2 (paper) and the player chooses scissors the message \"You won!\" but if the player chose rock then the message \"You Lose!\" shows, if the computer and the player choose the same thing \"It's a tie!\" shows. you can check the code commnets for details about individual sections"
   ]
  },
  {
   "cell_type": "code",
   "execution_count": null,
   "metadata": {
    "vscode": {
     "languageId": "html"
    }
   },
   "outputs": [
    {
     "data": {
      "text/html": [
       "<div>\n",
       "    <label for=\"choice\">Enter Choice (Rock, Paper, Scissors):</label>\n",
       "    <input type=\"text\" id=\"choice\" name=\"choice\" value=\"Rock\">\n",
       "    <button onclick=\"playGame()\">Play</button>\n",
       "</div>\n",
       "\n",
       "<div id=\"result\"></div>\n",
       "\n",
       "<script>\n",
       "    function playGame() {\n",
       "        // Get the user's choice\n",
       "        var userChoice = document.getElementById(\"choice\").value.trim().toLowerCase();\n",
       "        \n",
       "        // Map the user input to 1, 2, or 3 (1=Rock, 2=Paper, 3=Scissors)\n",
       "        var choices = [\"rock\", \"paper\", \"scissors\"];\n",
       "        \n",
       "        // Ensure the input is valid\n",
       "        if (!choices.includes(userChoice)) {\n",
       "            document.getElementById(\"result\").innerHTML = \"Invalid choice! Please enter Rock, Paper, or Scissors.\";\n",
       "            return;\n",
       "        }\n",
       "        \n",
       "        // Map user choice to a number (1=Rock, 2=Paper, 3=Scissors)\n",
       "        var userChoiceNumber = choices.indexOf(userChoice) + 1;\n",
       "        \n",
       "        // Computer's random choice (1=Rock, 2=Paper, 3=Scissors)\n",
       "        var computerChoiceNumber = Math.floor(Math.random() * 3) + 1;\n",
       "        \n",
       "        // Map numbers back to choice names\n",
       "        var computerChoice = choices[computerChoiceNumber - 1];\n",
       "        \n",
       "        // Determine the result\n",
       "        var result;\n",
       "        if (userChoiceNumber === computerChoiceNumber) {\n",
       "            result = \"It's a tie!\";\n",
       "        } else if ((userChoiceNumber === 1 && computerChoiceNumber === 3) || // Rock beats Scissors\n",
       "                   (userChoiceNumber === 2 && computerChoiceNumber === 1) || // Paper beats Rock\n",
       "                   (userChoiceNumber === 3 && computerChoiceNumber === 2)) { // Scissors beats Paper\n",
       "            result = \"You win!\";\n",
       "        } else {\n",
       "            result = \"You lose!\";\n",
       "        }\n",
       "        \n",
       "        // Display the result\n",
       "        document.getElementById(\"result\").innerHTML = `\n",
       "            <strong>Your choice:</strong> ${userChoice.charAt(0).toUpperCase() + userChoice.slice(1)} <br>\n",
       "            <strong>Computer's choice:</strong> ${computerChoice.charAt(0).toUpperCase() + computerChoice.slice(1)} <br>\n",
       "            <strong>Result:</strong> ${result}\n",
       "        `;\n",
       "    }\n",
       "</script>\n"
      ],
      "text/plain": [
       "<IPython.core.display.HTML object>"
      ]
     },
     "metadata": {},
     "output_type": "display_data"
    }
   ],
   "source": [
    "%%html\n",
    "<div>\n",
    "    <label for=\"choice\">Enter Choice (Rock, Paper, Scissors):</label>\n",
    "    <input type=\"text\" id=\"choice\" name=\"choice\" value=\"Rock\">\n",
    "    <button onclick=\"playGame()\">Play</button>\n",
    "</div>\n",
    "\n",
    "<div id=\"result\"></div>\n",
    "\n",
    "<script>\n",
    "    function playGame() {\n",
    "        // Get the user's choice\n",
    "        var userChoice = document.getElementById(\"choice\").value.trim().toLowerCase();\n",
    "        \n",
    "        // Map the user input to 1, 2, or 3 (1=Rock, 2=Paper, 3=Scissors)\n",
    "        var choices = [\"rock\", \"paper\", \"scissors\"];\n",
    "        \n",
    "        // Ensure the input is valid\n",
    "        if (!choices.includes(userChoice)) {\n",
    "            document.getElementById(\"result\").innerHTML = \"Invalid choice! Please enter Rock, Paper, or Scissors.\";\n",
    "            return;\n",
    "        }\n",
    "        \n",
    "        // Map user choice to a number (1=Rock, 2=Paper, 3=Scissors)\n",
    "        var userChoiceNumber = choices.indexOf(userChoice) + 1;\n",
    "        \n",
    "        // Computer's random choice (1=Rock, 2=Paper, 3=Scissors)\n",
    "        var computerChoiceNumber = Math.floor(Math.random() * 3) + 1;\n",
    "        \n",
    "        // Map numbers back to choice names\n",
    "        var computerChoice = choices[computerChoiceNumber - 1];\n",
    "        \n",
    "        // Determine the result\n",
    "        var result;\n",
    "        if (userChoiceNumber === computerChoiceNumber) {\n",
    "            result = \"It's a tie!\";\n",
    "        } else if ((userChoiceNumber === 1 && computerChoiceNumber === 3) || // Rock beats Scissors\n",
    "                   (userChoiceNumber === 2 && computerChoiceNumber === 1) || // Paper beats Rock\n",
    "                   (userChoiceNumber === 3 && computerChoiceNumber === 2)) { // Scissors beats Paper\n",
    "            result = \"You win!\";\n",
    "        } else {\n",
    "            result = \"You lose!\";\n",
    "        }\n",
    "        \n",
    "        // Display the result\n",
    "        document.getElementById(\"result\").innerHTML = `\n",
    "            <strong>Your choice:</strong> ${userChoice.charAt(0).toUpperCase() + userChoice.slice(1)} <br>\n",
    "            <strong>Computer's choice:</strong> ${computerChoice.charAt(0).toUpperCase() + computerChoice.slice(1)} <br>\n",
    "            <strong>Result:</strong> ${result}\n",
    "        `;\n",
    "    }\n",
    "</script>\n"
   ]
  }
 ],
 "metadata": {
  "kernelspec": {
   "display_name": "venv",
   "language": "python",
   "name": "python3"
  },
  "language_info": {
   "codemirror_mode": {
    "name": "ipython",
    "version": 3
   },
   "file_extension": ".py",
   "mimetype": "text/x-python",
   "name": "python",
   "nbconvert_exporter": "python",
   "pygments_lexer": "ipython3",
   "version": "3.12.3"
  }
 },
 "nbformat": 4,
 "nbformat_minor": 2
}
