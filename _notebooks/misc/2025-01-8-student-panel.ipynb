{
 "cells": [
  {
   "cell_type": "raw",
   "metadata": {
    "vscode": {
     "languageId": "raw"
    }
   },
   "source": [
    "---\n",
    "layout: post\n",
    "title: girls in CS student panel\n",
    "description: notes from the girls in cs student panel 1-8-25\n",
    "categories: \n",
    "---"
   ]
  },
  {
   "cell_type": "markdown",
   "metadata": {},
   "source": [
    "# Girls in CS student panel"
   ]
  },
  {
   "cell_type": "markdown",
   "metadata": {},
   "source": [
    "notes"
   ]
  },
  {
   "cell_type": "markdown",
   "metadata": {},
   "source": [
    "- SD is a big tech city. STEM is a big opportunity worth pursuing\n",
    "- A lot of times it's not the final result that gets you the grade but the process. if you can explain what you're doing then that's got you the good points. an example of this is our live reveiws\n",
    "- you need good articulation and related stuff to work with. clear communication is everything. if you can properly articulate and be clear and conscise with your points that will properly show your capebilities and potential to anyone reveiwing\n",
    "- you need documentation of your methodology. AGILE methodology and team strucrtures like SCRUM are extremely valuble. You need to document your processes and stuff because although the result is very valuble you need to document the process to propely communicate the idea which is the most important part of the process.  \n",
    "- knowledge of how to propely use git for team coordination can proove invaluble. an employer will most likely admire this as it's a valuble skill\n",
    "\n",
    "## college admission/preparation\n",
    "- ivy leauge schools often don't transfer AP credits\n",
    "- engauge in clubs and club activities as it can help you share resources with like-minded individuals. \n",
    "- engineering combined with social stuff is good for a sort of show-off project as it shows articulateness in multiple fields \n",
    "- all they have to know about you is what you have on paper, so make that paper good. Unless you can get an interview they won't know the real you. \n",
    "- get your geneds done\n",
    "- even the most prestigious colleges will most likely accept the credits you have from your community college classes \n",
    "- you need to have your projects documented \n",
    "- making websites can be good background stuff to have under your belt\n",
    "- "
   ]
  },
  {
   "cell_type": "markdown",
   "metadata": {},
   "source": []
  }
 ],
 "metadata": {
  "language_info": {
   "name": "python"
  }
 },
 "nbformat": 4,
 "nbformat_minor": 2
}
